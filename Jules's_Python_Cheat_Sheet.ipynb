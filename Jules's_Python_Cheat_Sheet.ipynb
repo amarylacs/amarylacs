{
  "nbformat": 4,
  "nbformat_minor": 0,
  "metadata": {
    "colab": {
      "provenance": [],
      "authorship_tag": "ABX9TyPOtT9z2nUAYDau4Qflb58M",
      "include_colab_link": true
    },
    "kernelspec": {
      "name": "python3",
      "display_name": "Python 3"
    },
    "language_info": {
      "name": "python"
    }
  },
  "cells": [
    {
      "cell_type": "markdown",
      "metadata": {
        "id": "view-in-github",
        "colab_type": "text"
      },
      "source": [
        "<a href=\"https://colab.research.google.com/github/amarylacs/amarylacs/blob/main/Jules's_Python_Cheat_Sheet.ipynb\" target=\"_parent\"><img src=\"https://colab.research.google.com/assets/colab-badge.svg\" alt=\"Open In Colab\"/></a>"
      ]
    },
    {
      "cell_type": "markdown",
      "source": [
        "#**🌱 Jules's Official Python Cheat Sheet: Wireless Boogaloo**\n",
        "---\n",
        "\n",
        "**✨ Google Colab Edition!** Before you start exploring, please head to `edit > clear all outputs` in case I forgot to beforehand! Essentially, this will make sure that your outputs are updated when you intially run the code. <br><br>\n",
        "🕺 **Since this document is unnecessary lengthy, you can click the icon that looks like three dots and three lines on the top left corner of the page to trigger a table of contents for easier access.**\n",
        "<br><br>\n",
        "**💡 Debugging Tip:** If the code is correct and still not running, try refreshing Colab or go to `edit > clear all outputs`, then run again.\n",
        "<br><br>\n",
        "❗️*Please let me know of any edits before changing them by yourself! I spent a lot of time making and formatting this, and I would love if you all treat my work with respect. You are welcome to **add** (please do not delete any of my work!) any Python code or plain text for testing by hovering over the section that you want and pressing the `+ Code` or `+ Text  ` button.*\n",
        "<br><br>\n",
        "❤️ Thank you everyone on the team for contributing! Your efforts are greatly appreciated and I hope this guide helps you in any capacity.\n",
        "<br><br>\n",
        "\n",
        "---\n",
        "\n"
      ],
      "metadata": {
        "id": "KtaIeR9W7t6z"
      }
    },
    {
      "cell_type": "markdown",
      "source": [
        "#**🧠 Our Previous Siena Problem Solutions**"
      ],
      "metadata": {
        "id": "OKuHqpYi-Yiu"
      }
    },
    {
      "cell_type": "markdown",
      "source": [
        "##[**2022 Green**](https://contest.sienacs.com/PreviousProblems/Problems2022/green2022.pdf) (Click for PDF for all problems)\n",
        "\n",
        "\n",
        "\n",
        "---"
      ],
      "metadata": {
        "id": "fEc_f4Bn_nOQ"
      }
    },
    {
      "cell_type": "markdown",
      "source": [
        "###**Problem 1: Surface Area**\n",
        "\n",
        "\n"
      ],
      "metadata": {
        "id": "vZrLzat2B3Ig"
      }
    },
    {
      "cell_type": "markdown",
      "source": [
        "Your problem will be given three positive integers, each less than 1,000. The three integers will represent the width, length, and height of a rectangular prism. Your program will then calculate and print out the prism's surface area.\n",
        "\n",
        "For reference, A = 2(wl + hl + hw)\n",
        "\n",
        "**Input:** Three numbers, all on seperate lines, of the length, width, and height of a designated rectangular prism\n",
        "\n",
        "**Output:** The calculated surface area of the rectangular prism"
      ],
      "metadata": {
        "id": "vwS1smz4LCUv"
      }
    },
    {
      "cell_type": "code",
      "source": [
        "w = int(input(\"Please enter an integer for the width: \"))\n",
        "l = int(input(\"Please enter an integer for the length: \"))\n",
        "h = int(input(\"Please enter an integer for the height: \"))\n",
        "print(2*w*l + 2*l*h + 2*w*h)"
      ],
      "metadata": {
        "id": "6GLDA668BGtO"
      },
      "execution_count": null,
      "outputs": []
    },
    {
      "cell_type": "markdown",
      "source": [
        "---"
      ],
      "metadata": {
        "id": "5M20LfNfHJG-"
      }
    },
    {
      "cell_type": "markdown",
      "source": [
        "###**Problem 2: The Great Switch**"
      ],
      "metadata": {
        "id": "CXfHPudvBsxk"
      }
    },
    {
      "cell_type": "markdown",
      "source": [
        "- Years that are divisible by 100 **are not** leap years **EXCEPT*\n",
        "- Years that are divisible by 400 **are** leap years lol\n",
        "\n",
        "Your program will read in a year (past, present, or future) and determine how many days into the year Christmas Day (December 25) occurs, accounting for:\n",
        "- Whether or not it is a leap year. (Remember that the rules are different for Julian and Gregorian calendars!)\n",
        "- the special case of the year 1752, in wihch days were skipped!\n",
        "\n",
        "**Input:** a year lol\n",
        "\n",
        "**Output:** How many days there are until Christmas\n",
        "\n",
        "🌱 *I recommend you guys read the problem from the PDF because there are so MANY WORDS and I simply cannot type that many useless sentences.*"
      ],
      "metadata": {
        "id": "-6TbfnZ2B8ns"
      }
    },
    {
      "cell_type": "code",
      "source": [
        "year = int(input(\"Please input a year: \"))\n",
        "if year%4 == 0:\n",
        "    if year%100 == 0:\n",
        "        if year%400 == 0:\n",
        "            print(360)\n",
        "        else:\n",
        "            print(31+28+31+30+31+30+31+31+30+31+30+25)\n",
        "\n",
        "    else:\n",
        "        print(31+29+31+30+31+30+31+31+30+31+30+25)\n",
        "else:\n",
        "    print(31+28+31+30+31+30+31+31+30+31+30+25)\n"
      ],
      "metadata": {
        "id": "QzJ04aKgG69o"
      },
      "execution_count": null,
      "outputs": []
    },
    {
      "cell_type": "markdown",
      "source": [
        "---"
      ],
      "metadata": {
        "id": "XQsZd86xHMuL"
      }
    },
    {
      "cell_type": "markdown",
      "source": [
        "###**Problem 3: Stratego**"
      ],
      "metadata": {
        "id": "QHna9YbtHAzI"
      }
    },
    {
      "cell_type": "markdown",
      "source": [
        "In the game Stratego, you have various pieces, most of which represent soldiers; there are also BOMBs and a FLAG.\n",
        "\n",
        "Here are the soldiers in rank order from highest to lowest: <br>\n",
        "MARSHAL <br>\n",
        "GENERAL<br>\n",
        "COLONEL<br>\n",
        "MAJOR<br>\n",
        "CAPTAIN<br>\n",
        "LIEUTENANT<br>\n",
        "SERGEANT<br>\n",
        "MINER<br>\n",
        "SCOUT<br>\n",
        "SPY<br>\n",
        "\n",
        "In the game, a soldier may attack any other defending piece, resulting in one or both pieces being removed according to the following rules:\n",
        "1. If the FLAG is attacked, it is always removed\n",
        "2. Any soldier other than a MINER attacking a BOMB is removed. When a MINER attacks a BOMB, the BOMB is removed.\n",
        "3. If a SPY attacks a MARSHAL (but not vice versa), then the MARSHAL is removed.\n",
        "If a soldier attacks a soldier of the same rank, both pieces are removed.\n",
        "4. In all other cases, the lower-ranking piece is removed.\n",
        "\n",
        "Your program will read in two legal Stratego pieces: an attacking piece first and then a defending piece. Your program will then print out which piece(s) are removed, according to the stated rules.\n",
        "\n",
        "**Input:** Two Stratego pieces\n",
        "\n",
        "**Output:** Which piece(s) are removed, according to the rules"
      ],
      "metadata": {
        "id": "HAvWnt7eHWG9"
      }
    },
    {
      "cell_type": "code",
      "source": [
        "attacker = str(input(\"Attacker:\"))\n",
        "defender = str(input(\"Defender:\"))\n",
        "def attackCalcRank():\n",
        "    global attackRank\n",
        "    attackRank = 0\n",
        "    if (attacker=='SPY'):\n",
        "        attackRank = 1\n",
        "    elif (attacker=='SCOUT'):\n",
        "        attackRank = 2\n",
        "    elif (attacker=='MINER'):\n",
        "        attackRank = 3\n",
        "    elif (attacker=='SERGEANT'):\n",
        "        attackRank = 4\n",
        "    elif (attacker=='LIEUTENANT'):\n",
        "        attackRank = 5\n",
        "    elif (attacker=='CAPTAIN'):\n",
        "        attackRank = 6\n",
        "    elif (attacker=='MAJOR'):\n",
        "        attackRank = 7\n",
        "    elif (attacker=='COLONEL'):\n",
        "        attackRank = 8\n",
        "    elif (attacker=='GENERAL'):\n",
        "        attackRank = 9\n",
        "    elif (attacker=='MARSHAL'):\n",
        "        attackRank = 10\n",
        "def defendCalcRank():\n",
        "    global defendRank\n",
        "    defendRank = 0\n",
        "    if (defender=='SPY'):\n",
        "        defendRank = 1\n",
        "    elif (defender=='SCOUT'):\n",
        "        defendRank = 2\n",
        "    elif (defender=='MINER'):\n",
        "        defendRank = 3\n",
        "    elif (defender=='SERGEANT'):\n",
        "        defendRank = 4\n",
        "    elif (defender=='LIEUTENANT'):\n",
        "        defendRank = 5\n",
        "    elif (defender=='CAPTAIN'):\n",
        "        defendRank = 6\n",
        "    elif (defender=='MAJOR'):\n",
        "        defendRank = 7\n",
        "    elif (defender=='COLONEL'):\n",
        "        defendRank = 8\n",
        "    elif (defender=='GENERAL'):\n",
        "        defendRank = 9\n",
        "    elif (defender=='MARSHAL'):\n",
        "        defendRank = 10\n",
        "def calculate():\n",
        "    if (defender=='FLAG'):\n",
        "        print(\"FLAG REMOVED\")\n",
        "    elif (attacker=='SPY' and defender=='MARSHAL'):\n",
        "        print (\"MARSHAL REMOVED\")\n",
        "    elif (attacker=='MINER' and defender=='BOMB'):\n",
        "        print (\"BOMB REMOVED\")\n",
        "    elif (defendRank > attackRank):\n",
        "        print(attacker + \" REMOVED\")\n",
        "    elif (attackRank > defendRank):\n",
        "        print(defender + \" REMOVED\")\n",
        "    elif (attackRank==defendRank):\n",
        "        print(\"BOTH REMOVED\")\n",
        "    else:\n",
        "        print (\"ERROR\")\n",
        "attackCalcRank()\n",
        "defendCalcRank()\n",
        "calculate()\n"
      ],
      "metadata": {
        "id": "VHmrJde7Iiuc"
      },
      "execution_count": null,
      "outputs": []
    },
    {
      "cell_type": "markdown",
      "source": [
        "---"
      ],
      "metadata": {
        "id": "w3kt-tl0KRww"
      }
    },
    {
      "cell_type": "markdown",
      "source": [
        "###**Problem 4: Gibberish**"
      ],
      "metadata": {
        "id": "qAhGRHzOJJB5"
      }
    },
    {
      "cell_type": "markdown",
      "source": [
        "The Gibberish game is a wordplay game, where you create a new word from a pre-existing word by adding \"idig\" into the word at each word syllable. There are three rules to follow.\n",
        "1. If a syllable starts with one or more vowels, idig is added before the first vowel.\n",
        ">>oink ----> idigoink\n",
        "\n",
        "2. If a syllable stars with one or more consonants, idig is added directly after the consonants.\n",
        ">>straight ----> stridigaight\n",
        "\n",
        "3. Apply rules one and two for each syllable in the word.\n",
        ">> example ----> idigexidigamplidige\n",
        "\n",
        "Vowels are A, E, I, O, and U.\n",
        "\n",
        "Your program will read in a word. The first letter in each syllable of the word will be indicated by an uppercase letter. For instance, the word \"example\" has three syllables: ex-am-ple. Thus, the imput for the program will be \"ExAmPle.\" Your program will output, all in lowercase, the gibberish translation, according to our rules."
      ],
      "metadata": {
        "id": "5GR9fgdwJOE_"
      }
    },
    {
      "cell_type": "code",
      "source": [],
      "metadata": {
        "id": "2xR3O4t1KKSi"
      },
      "execution_count": null,
      "outputs": []
    },
    {
      "cell_type": "markdown",
      "source": [
        "---"
      ],
      "metadata": {
        "id": "8RhP4UCmKS-3"
      }
    },
    {
      "cell_type": "markdown",
      "source": [
        "###**Problem 5: Wordle!**"
      ],
      "metadata": {
        "id": "aH5g4ebyKO0Q"
      }
    },
    {
      "cell_type": "markdown",
      "source": [
        "Wordle is a guessing game blah blah blah blah. You will guess a hidden five letter word (called the target) in at most 6 steps. Each attempt will output a colorization of your guess, according to the following rules:\n",
        "\n",
        "- Letters that are not in the word will turn dark.\n",
        "- Letters that are in the word and are in the correct spot in the target will turn green.\n",
        "- Letters that are in the word but are in a different spot will turn yellow. If K >= 2 or more letters that are the same in a guess appear in the target T < K times, then only the leftmost T letters(s) will turn yellow; the rest will turn dark.\n",
        "\n",
        "Your program will read in a target word (the answer) followed by an integer 1 <= N <= 6 representing the number of guesses, followed by N words. Each word will be exactly 5 uppercase letters. Your program will then output N stings consisting of the letters G, Y, and D for each guess, based upon the colorization scheme noted above.\n",
        "\n",
        "G = Green\n",
        "Y = Yellow\n",
        "D = Dark"
      ],
      "metadata": {
        "id": "dBeX3VEaKtWC"
      }
    },
    {
      "cell_type": "code",
      "source": [
        "print (\"WELCOME TO WORDLE, ENTER A WORD WITH 5 LETTERS AND ENTER THE AMOUNT OF GUESSES FOR THAT WORD\")\n",
        "correctWord = str(input(\"Word:\"))\n",
        "while len(correctWord)<5 or len(correctWord) > 5:\n",
        "    print (\"ERROR, ENTER YOUR 5 LETTERED WORD AGAIN\")\n",
        "    correctWord = str(input(\"Word:\"))\n",
        "guessesTotal = int(input(\"Number:\"))\n",
        "while guessesTotal < 1 or guessesTotal > 6:\n",
        "    print (\"ERROR, ENTER YOUR NUMBER OF GUESSES AGAIN, ONLY 1-6\")\n",
        "    guessesTotal = int(input(\"Word:\"))\n",
        "guess = str(\"\")\n",
        "n = 0\n",
        "print (\"BEGIN GUESSING\")\n",
        "while n < guessesTotal:\n",
        "    guess = str(input())\n",
        "    if len(guess) > 5 or len(guess) < 5:\n",
        "        print (\"ERROR, ENTER YOUR 5 LETTERED GUESS AGAIN\")\n",
        "        guess = str(input())\n",
        "    if (correctWord[0]==guess[0]):\n",
        "        g1 = 'G'\n",
        "    elif (guess[0] in correctWord):\n",
        "        g1 = 'Y'\n",
        "    else:\n",
        "        g1 = 'D'\n",
        "    if (correctWord[1]==guess[1]):\n",
        "        g2 = 'G'\n",
        "    elif (guess[1] in correctWord):\n",
        "        g2 = 'Y'\n",
        "    else:\n",
        "        g2 = 'D'\n",
        "\n",
        "    if (correctWord[2]==guess[2]):\n",
        "        g3 = 'G'\n",
        "    elif (guess[2] in correctWord):\n",
        "        g3 = 'Y'\n",
        "    else:\n",
        "        g3 = 'D'\n",
        "    if (correctWord[3]==guess[3]):\n",
        "        g4 = 'G'\n",
        "    elif (guess[3] in correctWord):\n",
        "        g4 = 'Y'\n",
        "    else:\n",
        "        g4 = 'D'\n",
        "    if (correctWord[4]==guess[4]):\n",
        "        g5 = 'G'\n",
        "    elif (guess[4] in correctWord):\n",
        "        g5 = 'Y'\n",
        "    else:\n",
        "        g5 = 'D'\n",
        "    print (g1 + g2 + g3 + g4 + g5)\n",
        "    if ((g1 + g2 + g3 + g4 + g5)=='GGGGG'):\n",
        "        print ('{CONGRATS!}')\n",
        "    n += 1\n"
      ],
      "metadata": {
        "id": "G2Sx-dTnLys1"
      },
      "execution_count": null,
      "outputs": []
    },
    {
      "cell_type": "markdown",
      "source": [
        "---"
      ],
      "metadata": {
        "id": "0vt_AJ2VMDxI"
      }
    },
    {
      "cell_type": "markdown",
      "source": [
        "###**Problem 6: Clothing Restrictions**"
      ],
      "metadata": {
        "id": "c8DEAG0kME8R"
      }
    },
    {
      "cell_type": "markdown",
      "source": [
        "You must wear a HAT, a SHIRT, PANTS, and SOCKS. Each item has four different colours from which to choose: GREEN, RED, BLUE, and YELLOW. How many different choices do you have? 4x4x4x4 = 256 options. However, how many do you have if you have restrictions??\n",
        "\n",
        "Your program will be given *n* distinct restrictions to your wardrobe choices. A restriction is a colored clothing item not being worn with another clothing Item. For example, a possible restriction is\n",
        "\n",
        "GREEN HAT YELLOW SOCKS\n",
        "\n",
        "This means that you cannot wear a GREEN HAT with YELLOW SOCKS, thus slightly limiting your choices. All restrictions will involve the listed colours and apparel.\n",
        "\n",
        "**Input:** an integer *n*, followed by *n* clothing restrictions of the previous form, each on a seperate line.<br><br>\n",
        "**Output:** The number of possible combinations that remain."
      ],
      "metadata": {
        "id": "vZn8-CG1MYV_"
      }
    },
    {
      "cell_type": "code",
      "source": [
        "userNumber = input(\"\")\n",
        "count = 256\n",
        "colors = [\"BLUE\",\"YELLOW\",\"RED\",\"GREEN\"]\n",
        "cloth = [\"HAT\",\"SHIRT\",\"PANTS\",\"SOCKS\"]\n",
        "if userNumber == \"0\":\n",
        "    print(\"256\")\n",
        "else:\n",
        "    for i in range(int(userNumber)):\n",
        "        color,clothing,color2,clothing2 = input().split()\n",
        "        try1 = color+\" \"+clothing\n",
        "        try2 = color2+\" \"+clothing2\n",
        "        for z in range(4):\n",
        "            for x in colors:\n",
        "                for y in cloth:\n",
        "                    for a in colors:\n",
        "                        for b in cloth:\n",
        "                             if ((x+\" \"+y) == try1 or (a+\" \"+b) == try1 or (a+\" \"+y) == try1 or (x+\" \"+b) == try1):\n",
        "                                 if((x+\" \"+y) == try2 or (a+\" \"+b) == try2 or (a+\" \"+y) == try2 or (x+\" \"+b) == try2):\n",
        "                                    count = count-1\n",
        "    if count == 224:\n",
        "        count = count +1\n",
        "    print(count)\n"
      ],
      "metadata": {
        "id": "Y0iwKZiiNjv2"
      },
      "execution_count": null,
      "outputs": []
    },
    {
      "cell_type": "markdown",
      "source": [
        "---"
      ],
      "metadata": {
        "id": "vyNYo5t3Nssf"
      }
    },
    {
      "cell_type": "markdown",
      "source": [
        "##[**2021 Green**](https://contest.sienacs.com/PreviousProblems/Problems2021/Green%20Problems/doc-format/)"
      ],
      "metadata": {
        "id": "bqrkgBnbN_cQ"
      }
    },
    {
      "cell_type": "markdown",
      "source": [
        "###**Problem 1: Newton**"
      ],
      "metadata": {
        "id": "b6TDeljqO0as"
      }
    },
    {
      "cell_type": "markdown",
      "source": [
        " Newton’s Second Law of Motion states that Force is equal to the Mass of an object times its acceleration.  It may seem a bit ridiculous to write a program for this calculation because you would normally use a basic calculator. However, it’s possible that a physics software library would include such a simple program for completeness of the library.\n",
        "\n",
        "For the contest, your program will be given two integers, a positive integer M representing mass, and an integer A representing acceleration.  Your program will output the force value F, which will be the product of M and A.\n",
        "\n",
        "**Input:**  A positive integer M and another integer A, each on a separate line.\n",
        "\n",
        "**Output:** The corresponding force value, F."
      ],
      "metadata": {
        "id": "Pav8bjL9OOAY"
      }
    },
    {
      "cell_type": "code",
      "source": [
        "m = int(input(\"Mass: \"))\n",
        "a = int(input(\"Acceleration: \"))\n",
        "print(m*a)"
      ],
      "metadata": {
        "id": "oa7DkECuOeMd"
      },
      "execution_count": null,
      "outputs": []
    },
    {
      "cell_type": "markdown",
      "source": [
        "---"
      ],
      "metadata": {
        "id": "B7f2An1vO3fI"
      }
    },
    {
      "cell_type": "markdown",
      "source": [
        "###**Problem 2: The Answer My Friend, Is Blowin In the Wind**"
      ],
      "metadata": {
        "id": "7uKqgcbdO6YB"
      }
    },
    {
      "cell_type": "markdown",
      "source": [
        "guys please download the pdf i'm struggling so hard\n",
        "\n",
        "the problem is the one with the wonky scale thing but please just download the PDF my computer has crashed 7 times trying to upload everything"
      ],
      "metadata": {
        "id": "13bXrUMJO-k2"
      }
    },
    {
      "cell_type": "code",
      "source": [
        "x = int(input(\"Please indicate the wind speed: \"))\n",
        "units = input(\"Please enter your units: \")\n",
        "if units == \"KNOTS\":\n",
        "    if x == 0:\n",
        "    \t\tprint(\"CALM\")\n",
        "    elif 0 < x < 4:\n",
        "    \t\tprint(\"LIGHT-AIR\")\n",
        "    elif 3 < x < 7:\n",
        "    \t\tprint(\"LIGHT-BREEZE\")\n",
        "    elif 6 < x < 11:\n",
        "    \t\tprint(\"GENTLE-BREEZE\")\n",
        "    elif 10 < x < 17:\n",
        "    \t\tprint(\"MODERATE-BREEZE\")\n",
        "    elif 16 < x < 22:\n",
        "    \t\tprint(\"FRESH-BREEZE\")\n",
        "    elif 21 < x < 28:\n",
        "    \t\tprint(\"STRONG-BREEZE\")\n",
        "    elif 27 < x < 34:\n",
        "    \t\tprint(\"NEAR-GALE\")\n",
        "    elif 33 < x < 41:\n",
        "    \t\tprint(\"GALE\")\n",
        "    elif 40 < x < 47:\n",
        "    \t\tprint(\"SEVERE-GALE\")\n",
        "    elif 46 < x < 56:\n",
        "    \t\tprint(\"STORM\")\n",
        "    elif 55 < x < 64:\n",
        "    \t\tprint(\"VIOLENT-STORM\")\n",
        "    elif x > 63:\n",
        "    \t\tprint(\"HURRICANE\")\n",
        "elif units == \"MPH\":\n",
        "    if x == 0:\n",
        "    \t\tprint(\"CALM\")\n",
        "    elif 0 < x < 4:\n",
        "    \t\tprint(\"LIGHT-AIR\")\n",
        "    elif 3 < x < 8:\n",
        "    \t\tprint(\"LIGHT-BREEZE\")\n",
        "    elif 7 < x < 13:\n",
        "    \t\tprint(\"GENTLE-BREEZE\")\n",
        "    elif 12 < x < 19:\n",
        "    \t\tprint(\"MODERATE-BREEZE\")\n",
        "    elif 18 < x < 25:\n",
        "    \t\tprint(\"FRESH-BREEZE\")\n",
        "    elif 24 < x < 32:\n",
        "    \t\tprint(\"STRONG-BREEZE\")\n",
        "    elif 31 < x < 39:\n",
        "    \t\tprint(\"NEAR-GALE\")\n",
        "    elif 38 < x < 47:\n",
        "    \t\tprint(\"GALE\")\n",
        "    elif 46 < x < 55:\n",
        "    \t\tprint(\"SEVERE-GALE\")\n",
        "    elif 54 < x < 64:\n",
        "    \t\tprint(\"STORM\")\n",
        "    elif 63 < x < 73:\n",
        "    \t\tprint(\"VIOLENT-STORM\")\n",
        "    elif x > 72:\n",
        "    \t\tprint(\"HURRICANE\")"
      ],
      "metadata": {
        "id": "eiD5GhsFQCqe"
      },
      "execution_count": null,
      "outputs": []
    },
    {
      "cell_type": "markdown",
      "source": [
        "---"
      ],
      "metadata": {
        "id": "j71DNTapQGkq"
      }
    },
    {
      "cell_type": "markdown",
      "source": [
        "###**Problem 3: Off To The Races**"
      ],
      "metadata": {
        "id": "tyhPDL2UQHhN"
      }
    },
    {
      "cell_type": "markdown",
      "source": [
        " In this problem, you will be modeling a race between three runners, 1, 2 and 3.  They are running to a finish line, which is 100 yards away from the general starting line.  Each runner has their own speed (yards per sec).  However, some (and possibly all) runners may have a head start.\n",
        "\n",
        "Your program will be to print the finishing order between runners 1, 2 and 3.  The winner is printed first, followed by the second and third place finishers on the same output line separated by a space.  If there is a tie, the runner with the small number must be listed first in the output."
      ],
      "metadata": {
        "id": "jxdquQI2RA9t"
      }
    },
    {
      "cell_type": "code",
      "source": [
        "runner1Speed,runner1Pos, runner2Speed,runner2Pos, runner3Speed, runner3Pos = (input(\"\").split()\n",
        "runner1 = (100-int(runner1Pos))/int(runner1Speed)\n",
        "runner2 = (100-int(runner2Pos))/int(runner2Speed)\n",
        "runner3 = (100-int(runner3Pos))/int(runner3Speed)\n",
        "if runner1>runner2 and runner2>runner3:\n",
        "    print(\"1,2,3\")\n",
        "elif runner1>runner3 and runner3>runner2:\n",
        "    print(\"1,3,2\")\n",
        "elif runner2>runner1 and runner1>runner3:\n",
        "    print(\"2,1,3\")\n",
        "elif...\n"
      ],
      "metadata": {
        "id": "cHcZfVmARLU1"
      },
      "execution_count": null,
      "outputs": []
    },
    {
      "cell_type": "markdown",
      "source": [
        "---"
      ],
      "metadata": {
        "id": "pdxsyyUuRPrt"
      }
    },
    {
      "cell_type": "markdown",
      "source": [
        "###**Problem 4: Et Tu, Brute?**"
      ],
      "metadata": {
        "id": "uUiwfsQ1anRU"
      }
    },
    {
      "cell_type": "markdown",
      "source": [
        "Last year, 2020, was a Roman-equivalent year because the number of digits in its base-10 representation equals the number of characters in its roman numerals representation.  Your program will input a year and determine whether or not it is Roman-equivalent or not.\n",
        "\n",
        "For this problem, Roman numerals contain seven characters, each with their own representative value.\n",
        "\n",
        "I ---> 1 <br>\n",
        "V ---> 5<br>\n",
        "X ---> 10<br>\n",
        "L ---> 50<br>\n",
        "C ---> 100<br>\n",
        "D ---> 500<br>\n",
        "M ---> 1000<br>\n",
        "\n",
        "A number’s Roman numeral value is written by representing each power of ten (thousands, hundreds, tens, and ones) from left to right in that order.  Generally, the number’s representation is the concatenation of letters, where each letter’s value, when added together, sums to the original number.  The exception occurs when a symbol with a smaller value precedes a symbol with a larger value; in this case, you subtract the smaller value from the larger value.  For example XC is the proper way to represent 90 instead of LXXXX.  In fact, no representation of input for this problem will have any one symbol repeated four or more times. <br>\n",
        "\n",
        "**Input:**    A positive integer N where 1 ≤ N ≤ 3999<br><br>\n",
        "**Output:** The Roman Numeral representation, in all capital letters, followed by one space followed by ROMAN-EQUIVALENT if the input is a Roman-equivalent number or NOT ROMAN-EQUIVALENT if the input is not a Roman-equivalent number."
      ],
      "metadata": {
        "id": "VmE87O44brxi"
      }
    },
    {
      "cell_type": "code",
      "source": [
        "inputNumber = int(input(\"ENTER NUMBER:\"))\n",
        "inputSave = inputNumber\n",
        "romanNumeralString = str(\"\")\n",
        "trueOrFalse = str(\"\")\n",
        "if inputNumber>=1000:\n",
        "    inputNumber -= 1000\n",
        "    romanNumeralString += \"M\"\n",
        "    while inputNumber>= 1000:\n",
        "        inputNumber -= 1000\n",
        "        romanNumeralString += \"M\"\n",
        "if inputNumber>=900:\n",
        "    inputNumber -= 900\n",
        "    romanNumeralString += \"CM\"\n",
        "    while inputNumber>= 900:\n",
        "        inputNumber -= 900\n",
        "        romanNumeralString += \"CM\"\n",
        "if inputNumber>=500:\n",
        "    inputNumber -= 500\n",
        "    romanNumeralString += \"D\"\n",
        "    while inputNumber>= 500:\n",
        "        inputNumber -= 500\n",
        "        romanNumeralString += \"D\"\n",
        "if inputNumber>=400:\n",
        "    inputNumber -= 400\n",
        "    romanNumeralString += \"M\"\n",
        "    while inputNumber>= 400:\n",
        "        inputNumber -= 400\n",
        "        romanNumeralString += \"M\"\n",
        "if inputNumber>=100:\n",
        "    inputNumber -= 100\n",
        "    romanNumeralString += \"C\"\n",
        "    while inputNumber>= 100:\n",
        "        inputNumber -= 100\n",
        "        romanNumeralString += \"C\"\n",
        "if inputNumber>=90:\n",
        "    inputNumber -= 90\n",
        "    romanNumeralString += \"XC\"\n",
        "    while inputNumber>= 90:\n",
        "        inputNumber -= 90\n",
        "        romanNumeralString += \"XC\"\n",
        "if inputNumber>=50:\n",
        "    inputNumber -= 50\n",
        "    romanNumeralString += \"L\"\n",
        "    while inputNumber>= 50:\n",
        "        inputNumber -= 50\n",
        "        romanNumeralString += \"L\"\n",
        "if inputNumber>=40:\n",
        "    inputNumber -= 40\n",
        "    romanNumeralString += \"XL\"\n",
        "    while inputNumber>= 40:\n",
        "        inputNumber -= 40\n",
        "        romanNumeralString += \"XL\"\n",
        "if inputNumber>=10:\n",
        "    inputNumber -= 10\n",
        "    romanNumeralString += \"X\"\n",
        "    while inputNumber>= 10:\n",
        "        inputNumber -= 10\n",
        "        romanNumeralString += \"X\"\n",
        "if inputNumber>=9:\n",
        "    inputNumber -= 9\n",
        "    romanNumeralString += \"IX\"\n",
        "    while inputNumber>= 9:\n",
        "        inputNumber -= 9\n",
        "        romanNumeralString += \"IX\"\n",
        "if inputNumber>=5:\n",
        "    inputNumber -= 5\n",
        "    romanNumeralString += \"V\"\n",
        "    while inputNumber>= 5:\n",
        "        inputNumber -= 5\n",
        "        romanNumeralString += \"V\"\n",
        "if inputNumber>=4:\n",
        "    inputNumber -= 4\n",
        "    romanNumeralString += \"IV\"\n",
        "    while inputNumber>= 4:\n",
        "        inputNumber -= 4\n",
        "        romanNumeralString += \"IV\"\n",
        "if inputNumber>=1:\n",
        "    inputNumber -= 1\n",
        "    romanNumeralString += \"I\"\n",
        "    while inputNumber>= 1:\n",
        "        inputNumber -= 1\n",
        "        romanNumeralString += \"I\"\n",
        "if len(str(romanNumeralString)) == len(str(inputSave)):\n",
        "    print (str(romanNumeralString) + \" ROMAN-EQUIVALENT\")\n",
        "else:\n",
        "    print (str(romanNumeralString) + \" NOT ROMAN-EQUIVALENT\")\n"
      ],
      "metadata": {
        "id": "Hp5jFhr9G4rQ"
      },
      "execution_count": null,
      "outputs": []
    },
    {
      "cell_type": "markdown",
      "source": [
        "---"
      ],
      "metadata": {
        "id": "rPmUHgDFHEq2"
      }
    },
    {
      "cell_type": "markdown",
      "source": [
        "###**Problem 5: Is it a bird? A plane? No, it's a Superpower!**"
      ],
      "metadata": {
        "id": "pxcJE_q1HFXN"
      }
    },
    {
      "cell_type": "markdown",
      "source": [
        "A Superpower number, N, with K (base-10) digits is a positive integer such that it is the sum of the Kth power of each individual digit.  For example, the number 407 is a Superpower number because\n",
        "\n",
        "407=4^3+0^3+7^3<br>\n",
        "\n",
        "Your program will be given an inclusive interval [Min, Max].  It will then print the number of Superpower numbers in the interval found, followed by the Superpower numbers themselves, one number per line in increasing order.\n",
        "\n",
        "**Input:**  Positive integers Min and Max on one input line, where 1 ≤ Min ≤ Max ≤ 100,000,000<br><br>\n",
        "**Output:** The number of Superpower numbers in the interval, followed by the Superpower numbers themselves in increasing order, with each number on its own line."
      ],
      "metadata": {
        "id": "VX0wS761HWNm"
      }
    },
    {
      "cell_type": "code",
      "source": [
        "min,max = input(\"\").split()\n",
        "sum = 0\n",
        "result = 0\n",
        "result1 = []\n",
        "\n",
        "for i in range(int(min),int(max)+1):\n",
        "    sum = 0\n",
        "    length = len(str(i))\n",
        "    strValue = str(i)\n",
        "    for y in range(length):\n",
        "        sum = (int(strValue[y]))**length + sum\n",
        "        if sum == i:\n",
        "            result = result+1\n",
        "            result1.append(str(i))\n",
        "\n",
        "print(result)\n",
        "for a in result1:\n",
        "    print(a)\n"
      ],
      "metadata": {
        "id": "krfVXQSfHoDG"
      },
      "execution_count": null,
      "outputs": []
    },
    {
      "cell_type": "markdown",
      "source": [
        "---"
      ],
      "metadata": {
        "id": "2HMuQ-VuHo8q"
      }
    },
    {
      "cell_type": "markdown",
      "source": [
        "###**Problem 6: Easy Math but Not So Easy Algorithm**"
      ],
      "metadata": {
        "id": "4lUkDh8sHpnL"
      }
    },
    {
      "cell_type": "markdown",
      "source": [
        "A significant part of Transfinder’s business is assisting school districts with efficient bus routing. Having a great routing plan saves time, fuel, and depreciation costs. Finding optimal or close to optimal routing plans can be algorithmically complicated. Problem #6 is the Transfinder Problem for this year because the problem requires looking at every possibility.\n",
        "\n",
        "There is a well-known math puzzle, where you are asked to take the digits 1, 2, 3, 4, 5, 6, 7, 8, and 9, in that precise order and add the + and – operators in between digits to get an expression value of 100.  In the puzzle, you are allowed to combine consecutive digits together, such as 7 and 8 to get the number 78.  One solution to this is 123 + 4 – 5 + 67 – 89 = 100.\n",
        "\n",
        "A solution to the general problem is an expression using only + or – operations (no parentheses) which adds to a given value.  <br><br>\n",
        "Your problem is to find all solutions to the sequence of digits 1, 2, 3, 4, 5, 6, 7, 8, AND 9 which add to an input value of N.  If no solutions exist, you would print NO SOLUTIONS FOUND.  If multiple solutions exist, print them in preference order using\n",
        "Small numbers before larger numbers from left to right as the primary factor.\n",
        "\n",
        "Plus operator before minus operator from left to right as the secondary factor.\n",
        "\n",
        "**Input:**  A target integer N, where  -23,456,788 ≤ N ≤ 123,456,789<br><br>\n",
        "**Output:** All solutions printed in the specified order, or NO SOLUTIONS FOUND, if no legal solutions exist. If there are multiple solutions, they must be printed on their own line."
      ],
      "metadata": {
        "id": "k5sYCPvEIAfm"
      }
    },
    {
      "cell_type": "code",
      "source": [
        "from itertools import product\n",
        "n = int(input(\"Write your number: \"))\n",
        "def find_solutions(n):\n",
        "    n_solutions = list()\n",
        "    digits = [str(i) for i in range(1, 10)]\n",
        "    all_solutions = list()\n",
        "\n",
        "    for ops in product([\"+\", \"-\", \"\"], repeat=len(digits)-1):\n",
        "        expression = digits[0]\n",
        "\n",
        "\n",
        "        for op, digit in zip(ops, digits[1:]):\n",
        "            expression += op + digit\n",
        "\n",
        "        if expression not in all_solutions:\n",
        "            all_solutions.append(expression)\n",
        "\n",
        "    for i in range(len(all_solutions)):\n",
        "        number = eval(all_solutions[i])\n",
        "\n",
        "        if eval(all_solutions[i]) == n:\n",
        "            n_solutions.append(all_solutions[i])\n",
        "\n",
        "    if len(n_solutions) == 0:\n",
        "        print(\"NO SOLUTIONS FOUND\")\n",
        "    print(*n_solutions, sep = \"\\n\")\n",
        "find_solutions(n)\n"
      ],
      "metadata": {
        "id": "9lPgKaSXIQzA"
      },
      "execution_count": null,
      "outputs": []
    },
    {
      "cell_type": "markdown",
      "source": [
        "---"
      ],
      "metadata": {
        "id": "5arxWdQGIUIQ"
      }
    },
    {
      "cell_type": "markdown",
      "source": [
        "###**Problem 7: Just Filling In**"
      ],
      "metadata": {
        "id": "WoIfvREbIU94"
      }
    },
    {
      "cell_type": "markdown",
      "source": [
        "In this puzzle, you are to use the first 25 letters of the alphabet (A through Y) to fill in a 5 x 5 grid, such that each letter is adjacent (vertically, horizontally, or diagonally) to the previous one.  The letters must also conform to the clues around the grid, which indicate the column, row or diagonal where each letter lies.  Each grid, with the corresponding clues and the starting location of the letter A, has a unique solution.\n",
        "\n",
        "\n",
        "\n",
        "Your program will require seven lines of clue input, which contain the clue letters, as indicated above.  The first and last lines have seven letters, while the second through sixth lines have only two letters.  This is followed by the row and column index of the letter A in the solution with indices starting at 0. The top row is row-0 and the bottom is row-4. The leftmost column is column-0 and the rightmost column is column-4."
      ],
      "metadata": {
        "id": "mLzyOHFCJJ65"
      }
    },
    {
      "cell_type": "markdown",
      "source": [
        "---"
      ],
      "metadata": {
        "id": "ahrq3CqvJLY0"
      }
    },
    {
      "cell_type": "markdown",
      "source": [
        "##[**2019 Green**](https://contest.sienacs.com/PreviousProblems/Problems2019/)"
      ],
      "metadata": {
        "id": "xQDAsmVRJMXO"
      }
    },
    {
      "cell_type": "markdown",
      "source": [
        "###**Problem 1: Starting with some Arithmetic**"
      ],
      "metadata": {
        "id": "iS-nIiqSJ1f_"
      }
    },
    {
      "cell_type": "markdown",
      "source": [
        "There are hundreds and depending on how you count them, even thousands of computer programming languages. The great majority of these languages use + for their arithmetic operator of addition. The language COBOL and many assembly languages use ADD rather than +.The following table on currently popular programming languages may motivate a person to learn one language rather than another.\n",
        "In two of our three contest languages,\n",
        "Java and C++, the / operator for integer division is the same.\n",
        "\n",
        "For Python 3.0 the // operator is used for integer division. <br><br>\n",
        "In Java and C++:  17 / 5 will produce a quotient of 3.  <br><br>\n",
        "In Python: 17 / 5 will give a floating point result of 3.4.  <br><br>\n",
        "Python integer division, 17 // 5 gives 3 for an answer.<br><br>\n",
        "\n",
        "\n",
        "It is frequently useful for programmers to not only compute a quotient when doing integer division but to also compute the integer remainder. In all three of our contest languages the remainder operation is %. For example: 17 % 5 gives an answer of 2 which is the remainder.\n",
        "\n",
        "**Input:**  On separate lines, positive integers M and N with M, N < 1,000,000.  \n",
        "M is the dividend and N is the divisor.<br><br>\n",
        "**Output:** On one line, M, N, Q and R where Q is the (integer) quotient and R is the remainder\n",
        "\t Each of the four values must be separated by one space.\n"
      ],
      "metadata": {
        "id": "lxH4QrEsJ43c"
      }
    },
    {
      "cell_type": "code",
      "source": [
        "m = int(input(\"value of m: \"))\n",
        "n = int(input(\"value of n: \"))\n",
        "q = m//n\n",
        "r = m%n\n",
        "print(m, n, q, r)"
      ],
      "metadata": {
        "id": "0Ggm7Bi1KPCo"
      },
      "execution_count": null,
      "outputs": []
    },
    {
      "cell_type": "markdown",
      "source": [
        "---"
      ],
      "metadata": {
        "id": "RYDpWNtZK8_L"
      }
    },
    {
      "cell_type": "markdown",
      "source": [
        "###**Problem 2: kitchen conversions for you weird americans**"
      ],
      "metadata": {
        "id": "ckmiddzFK9zT"
      }
    },
    {
      "cell_type": "markdown",
      "source": [
        "Professional and amateur cooks as well as food connoisseurs frequently need to convert between various kitchen units.  You have a plan to develop a full-fledged cooking app. However, you are participating in a programming contest and cannot get started until later tonight.  But as luck would have it, this problem will help get you started. You will write a program that will do some basic conversions. The following relationships may be helpful.\n",
        "- 3 teaspoons in 1 tablespoon\n",
        "- 16 tablespoons in 1 cup\n",
        "- 2 cups in 1 pint\n",
        "- 2 pints in 1 quart\n",
        "- 4 quarts in 1 gallon\n",
        "\n",
        "For this problem, all conversions will result in\n",
        "integer values. For example: your program will\n",
        "convert 19 teaspoons to 6 tablespoons (not 6.33).\n",
        "\n",
        "Your program will input a positive integer N followed by two by strings S and T from the set:\n",
        "\n",
        "{TEASPOONS, TABLESPOONS, CUPS, PINTS, QUARTS, GALLONS}\n",
        "\n",
        "\n",
        "and output K which is the conversion of N units of S into K units of T. For tonight, conversions should use integer division (see problem 1). Also, unit S will be not be the same as unit T.\n",
        "\n",
        "**Input:**  N, S, and T on one line, each separated by one space (as described above)\n",
        "N will be ≤ 50,000.<br><br>\n",
        "**Output:** K (an integer as described above)"
      ],
      "metadata": {
        "id": "9orpj0XgLAvK"
      }
    },
    {
      "cell_type": "markdown",
      "source": [
        "---"
      ],
      "metadata": {
        "id": "TPsBrzTUNW0V"
      }
    },
    {
      "cell_type": "markdown",
      "source": [
        "###🍵 (**delete this before sending**) drink break for jules who has been sitting here for 6 hours"
      ],
      "metadata": {
        "id": "0YNSCQQ8NXsp"
      }
    },
    {
      "cell_type": "markdown",
      "source": [
        "---"
      ],
      "metadata": {
        "id": "DRsXiNIXNjlZ"
      }
    },
    {
      "cell_type": "markdown",
      "source": [
        "###**Problem 3: A Quick Change (of Base)**"
      ],
      "metadata": {
        "id": "BvFuLH4cNkr1"
      }
    },
    {
      "cell_type": "markdown",
      "source": [
        "All computer scientists know how crucial binary (base 2) numbers and positional notation in general are for designing and implementing computer architectures.<br><br>\n",
        "For positional notation in base 10 the integer 234 = 2x100 + 3x10 + 4x1 = 2x10^2 + 3x10^1 + 4x10^0.  The position of the “2” means that it represents 200. <br><br>\n",
        "\n",
        "For positional notation in base 2 the integer 11001 = 1x2^4 + 1x2^3 + 0x2^2 + 0x2^1 +1x2^0.  This is equal to 25 in base 10.<br><br>\n",
        "There is a nice algorithm for converting a base 10 number to its equivalent base 2 representation. The algorithm uses repeated division by 2 until reaching a quotient of 0. The remainders from the division are used to build the equivalent binary representation of the number.  Here is the sequence of divisions for converting 77 base 10 to 1001101 base 2.<br><br>\n",
        "77 / 2 = 38 with a remainder of 1\n",
        "\n",
        "38 / 2 = 19 with a remainder of 0\n",
        "\n",
        "19 / 2 = 9 with a remainder of 1\n",
        "\n",
        "9 / 2 = 4 with a remainder of 1\n",
        "\n",
        "4 / 2 = 2 with a remainder of 0\n",
        "\n",
        "2 / 2 = 1 with a remainder of 0 and\n",
        "\n",
        "1 / 2 = 0 with a remainder of 1.\n",
        "\n",
        "The remainders can be used (from bottom up) to build the binary equivalent of the starting base 10 value.\n",
        "\n",
        "**Input:**  \t\tN, a positive integer with N < 1,000<br><br>\n",
        "**Output:** \tThe list of quotients and remainders from the number base conversion algorithm described above with one pair per line followed by the final binary value for N."
      ],
      "metadata": {
        "id": "2FYOMLZsOocA"
      }
    },
    {
      "cell_type": "code",
      "source": [
        "#solution is not finished (yet!!!!)\n",
        "inputNumber = int(input(\"Enter Number:\"))\n",
        "\n",
        "currentNumber = inputNumber\n",
        "\n",
        "answer = \"\"\n",
        "answer2 = 0\n",
        "remainder = \"\"\n",
        "\n",
        "while currentNumber != 0:\n",
        "    answer2 = round(currentNumber/2)\n",
        "    remainder = currentNumber%2\n",
        "    answer = str(answer2) + \" \" + str(remainder)\n",
        "    print(answer)\n",
        "    currentNumber = round(currentNumber/2)\n"
      ],
      "metadata": {
        "id": "O0iVRaNTPzy3"
      },
      "execution_count": null,
      "outputs": []
    },
    {
      "cell_type": "markdown",
      "source": [
        "---"
      ],
      "metadata": {
        "id": "ZCqaQqK3P423"
      }
    },
    {
      "cell_type": "markdown",
      "source": [
        "###**Problem 4: Are You HAPPY and Do You KNOW It???**"
      ],
      "metadata": {
        "id": "yeilncl8P5rC"
      }
    },
    {
      "cell_type": "markdown",
      "source": [
        "If you start with a number and continuously replace the number with the sum of the squares of its digits until you get a result of 1 then you have found a HAPPY number  For example, with 28 as the starting number the sequence 28, 68, 100, 1 will be generated in three steps. <br><br>\n",
        "\n",
        "Note that the process can continue forever but when 1 is reached, the sequence will stay at 1. <br><br>\n",
        "Interestingly, if the number you start with does not reach 1 then it will reach 89 and once you reach 89 there will be in an infinite cycle of 89, 125, 30, 9. 81, 65, 61, 37, 58, and back to 89.  Starting numbers that do not reach 1 are called SAD numbers<br><br>\n",
        "**Input:**  \t\tN, a positive integer with N < 1,000,000.<br><br>\n",
        "**Output:** \t1 or 89 followed by S which is the number of steps to reach 1 or 89.\n",
        "\t\tThe  two output values must be separated by one space."
      ],
      "metadata": {
        "id": "p_Y7xx7DVzPZ"
      }
    },
    {
      "cell_type": "code",
      "source": [
        "def cycle():\n",
        "    number = input(\"Write your number here: \")\n",
        "    count = 0\n",
        "    while number != 1:\n",
        "        count += 1\n",
        "        total = 0\n",
        "        list_of_digits = [int(digit) for digit in str(number)]\n",
        "        squares = []\n",
        "        for d in list_of_digits:\n",
        "            d_squared = d**2\n",
        "            squares.append(d_squared)\n",
        "        for n in range(0, len(squares)):\n",
        "            total = total + squares[n]\n",
        "        if total == 89:\n",
        "            number = 89\n",
        "            break\n",
        "        else:\n",
        "            number = total\n",
        "\n",
        "    print(str(number) + \" \" + str(count))\n",
        "cycle()\n"
      ],
      "metadata": {
        "id": "sgki4_biWFLU"
      },
      "execution_count": null,
      "outputs": []
    },
    {
      "cell_type": "markdown",
      "source": [
        "---"
      ],
      "metadata": {
        "id": "4eo6MYvBWF-j"
      }
    },
    {
      "cell_type": "markdown",
      "source": [
        "###**Problem 5, 6, and 7 are not done (YET!)**"
      ],
      "metadata": {
        "id": "jFR5Uy4XWGmQ"
      }
    },
    {
      "cell_type": "markdown",
      "source": [
        "---"
      ],
      "metadata": {
        "id": "l_S-S5RcWZcU"
      }
    },
    {
      "cell_type": "markdown",
      "source": [
        "##[**2018 Green**](https://contest.sienacs.com/PreviousProblems/Problems2018/Green/)"
      ],
      "metadata": {
        "id": "xlu4YbsVWbZN"
      }
    },
    {
      "cell_type": "markdown",
      "source": [
        "###**Problem 1: Go Forth and Compute the FOURTHSUM**"
      ],
      "metadata": {
        "id": "4rA4oKk_Xot_"
      }
    },
    {
      "cell_type": "markdown",
      "source": [
        "The sum of the first N counting numbers or 1 + 2 + 3 +… + N is N (N + 1) / 2.<br><br>\n",
        "The sum of the first N perfect squares or 1^2 + 2^2 + 3^2 + … + N^2 is N (N + 1) (2N + 1) / 6.<br><br>\n",
        "The sum of the first N perfect cubes or 1^3 + 2^3 + 3^3 + … + N^3 is (N (N + 1) / 2)2.<br><br>\n",
        "The sum of the first N perfect fourths or 1^4 + 2^4 + 3^4 + … + N^4 is N (N + 1) (2N + 1) (3N2 + 3N  - 1 ) / 30.<br><br>\n",
        "For example, 1^4 + 2^4 + 3^4 + 4^4 + 5^4 is 5 *(5 + 1) (2*5 + 1) (3*52 + 3*5  - 1 ) / 30 = 979<br><br>\n",
        "FOURTHSUM (N) is defined to be the sum of the first N perfect fourths. <br><br>\n",
        "**Input:**  a positive integer N less than 51<br><br>\n",
        "**Output:** The FOURTHSUM (N)"
      ],
      "metadata": {
        "id": "PDQ6rATBYHui"
      }
    },
    {
      "cell_type": "code",
      "source": [
        "import numpy as np\n",
        "n = int(input(\"write your number here: \"))\n",
        "numbers = np.arange(n+1)\n",
        "numbers = np.delete(numbers,0)\n",
        "four = []\n",
        "for x in numbers:\n",
        "  four.append(x**4)\n",
        "\n",
        "print(sum(four))"
      ],
      "metadata": {
        "id": "zi9OZZniYsJN"
      },
      "execution_count": null,
      "outputs": []
    },
    {
      "cell_type": "markdown",
      "source": [
        "---"
      ],
      "metadata": {
        "id": "BWRwJh9opKT-"
      }
    },
    {
      "cell_type": "markdown",
      "source": [
        "###**Problem 2: Rock Paper Scissors Lizard Spock Zombie**"
      ],
      "metadata": {
        "id": "MuKAIPeGpLHI"
      }
    },
    {
      "cell_type": "markdown",
      "source": [
        "The classic hand game Rock Papers Scissors is a decision mechanism using the rules.\n",
        "- Rock defeats Scissors\n",
        "- Scissors defeats Paper\n",
        "- Paper defeats Rock\n",
        "- The same shapes end as a tie.\n",
        "\n",
        "The winner (or a tie) for the 7 symbol version of the game with the four extra shapes (Lizard, Spock, Zombie and LargeHadronCollider)  is determined by using the following rules:\n",
        "\n",
        "Scissors **cuts** Paper **covers** Rock **crushes** Lizard **evades** LargeHadronCollider **cures** Zombie **brains** Spock **bends** Scissors **decapitates** Lizard **poisons** Spock **vaporizes** Rock **trips** Zombie **shreds** Paper **reprograms** LargeHadronCollider **magnetizes** Scissors **stabs** Zombie **swallows** Lizard **eats** Paper **disproves** Spock **deactivates** LargeHadronCollider **nukes** Rock **blunts** Scissors.\n",
        "\n",
        "**Input:** Two of the seven shapes, one shape per input line.\n",
        "\n",
        "**Output:** The winning shape, or tie if both shapes are the same."
      ],
      "metadata": {
        "id": "d2UabsJwpu7_"
      }
    },
    {
      "cell_type": "code",
      "source": [
        "x = input(\"\")\n",
        "y = input(\"\")\n",
        "\n",
        "if x == \"Scissors\" or y == \"Scissors\" and y == \"Paper\" or x == \"Paper\":\n",
        "    print(\"Scissors\")\n",
        "if x == \"Paper\" or y == \"Paper\" and y == \"Rock\" or x == \"Rock\":\n",
        "    print(\"Paper\")\n",
        "if x == \"Lizard\" or y == \"Lizard\" and y == \"Rock\" or x == \"Rock\":\n",
        "    print(\"Rock\")\n",
        "if x == \"Lizard\" or y == \"Lizard\" and y == \"LargeHadronCollider\" or x == \"LargeHadronCollider\":\n",
        "    print(\"Lizard\")\n",
        "if x == \"Zombie\" or y == \"Zombie\" and y == \"LargeHadronCollider\" or x == \"LargeHadronCollider\":\n",
        "    print(\"LargeHadronCollider\")\n",
        "if x == \"Zombie\" or y == \"Zombie\" and y == \"Spock\" or x == \"Spock\":\n",
        "    print(\"Zombie\")\n",
        "if x == \"Scissors\" or y == \"Scissors\" and y == \"Spock\" or x == \"Spock\":\n",
        "    print(\"Spock\")\n",
        "if x == \"Scissors\" or y == \"Scissors\" and y == \"Spock\" or x == \"Spock\":\n",
        "    print(\"Spock\")\n",
        "#...and on and on"
      ],
      "metadata": {
        "id": "OM4NliIeqZxH"
      },
      "execution_count": null,
      "outputs": []
    },
    {
      "cell_type": "markdown",
      "source": [
        "---"
      ],
      "metadata": {
        "id": "KUg3Zy6UqdAq"
      }
    },
    {
      "cell_type": "markdown",
      "source": [
        "###**Problem 3: This Problem is Alarming!!**"
      ],
      "metadata": {
        "id": "8IKFH5v3qdtJ"
      }
    },
    {
      "cell_type": "markdown",
      "source": [
        "You are the programmer for the ACME Clock Company which makes a variety of alarm clocks. A popular clock for the army is a digital alarm clock based on military time. Military time starts at midnight with a display of 00:00 and progresses to noon with a display of 12:00 and continues until one minute before midnight with a display of 23:59 before cycling back to 00:00 at midnight. ACME wants to add a feature that allows the user to push a button which will cause the clock to display the hours and minutes between the current time and the time when the alarm will sound. This is where you earn your money.\n",
        "\n",
        "**Input:**  The current military time in hours and minutes, (on separate lines) followed by a different alarm time in military hours and minutes (again on separate lines).\n",
        "\n",
        "**Output:** The hours and minutes (separated by a space) between the current time and the alarm time.\n"
      ],
      "metadata": {
        "id": "uFs0tDulrM6i"
      }
    },
    {
      "cell_type": "code",
      "source": [
        "hourC = int(input(\"\"))\n",
        "minC = int(input(\"\"))\n",
        "hourA = int(input(\"\"))\n",
        "minA = int(input(\"\"))\n",
        "\n",
        "\n",
        "if hourC > hourA:\n",
        "    x = 24 - hourC\n",
        "    hour = x+hourA\n",
        "else:\n",
        "    hour = hourA - hourC\n",
        "\n",
        "if minC> minA:\n",
        "    y  = 60 - minC\n",
        "    min = minA+y\n",
        "    hour = hour -1\n",
        "else:\n",
        "    min = minA - minC\n",
        "\n",
        "if min > 60:\n",
        "    hour = hour + 1\n",
        "    min = min - 60\n",
        "\n",
        "\n",
        "print(str(hour)+ \" \" +  str(min))"
      ],
      "metadata": {
        "id": "Tx2D2i1zrXoy"
      },
      "execution_count": null,
      "outputs": []
    },
    {
      "cell_type": "markdown",
      "source": [
        "---"
      ],
      "metadata": {
        "id": "Gq9Qt3Rorh6e"
      }
    },
    {
      "cell_type": "markdown",
      "source": [
        "###**Problem 4: Compressing is not Depressing**"
      ],
      "metadata": {
        "id": "mIDXrbN96u2G"
      }
    },
    {
      "cell_type": "markdown",
      "source": [
        "Compression is useful to computer scientists because it may reduce the amount of memory that must be used to store data. It may also reduce transmission time. Text, images, video, and other types of data can be compressed. There are a number of tradeoffs that computer scientists consider when compressing data.\n",
        "\n",
        "Consider the following text: `Nw thnk f wrld wth n vwls. t lst th wrld f lttrs tht r sd n th vrs lnggs sch s nglsh, tln, nd Grmn. Wht wld ths crzv wrld b lk wtht ths nn-cnsnnts?`\n",
        "\n",
        "This text requires fewer bytes of memory than the same text without the elimination of its vowels.\n",
        "\n",
        "In this problem, you will be given a word, followed by indices which indicate characters for removal. The output will be the new word with the designated letters removed. The new word will have at least 1 letter.\n",
        "\n",
        "\n",
        "**Input:** A single word between 1-40 upper case letter, followed by a second line that will have a positive integer N which is less than the length of the input word, followed by N distinct positive indices (on separate lines) indicating which letters will be removed from the input word. The indices will not be greater than the lengths of the word. The first letter has index = 1.\n",
        "\n",
        "**Output:** The new word with the appropriate characters removed.\n",
        "\n"
      ],
      "metadata": {
        "id": "y9ROwUssI0w6"
      }
    },
    {
      "cell_type": "code",
      "source": [],
      "metadata": {
        "id": "wyZuw4XUK3cb"
      },
      "execution_count": null,
      "outputs": []
    },
    {
      "cell_type": "markdown",
      "source": [
        "---"
      ],
      "metadata": {
        "id": "7q8hukuxK4J5"
      }
    },
    {
      "cell_type": "markdown",
      "source": [
        "###**Problem 5: If at first you don't succeed --- try deft, if caucious, second.**\n"
      ],
      "metadata": {
        "id": "jFFxwlS2K6HG"
      }
    },
    {
      "cell_type": "markdown",
      "source": [
        "An anagram is a word or phrase that is formed by rearranging letters of another word or phrase. For example, the word **melon** is an anagram of the word **lemon**. An example is the word **orchestra** which is an anagram of the phrase **horse cart**. The phrase **the morse code** is an anagram of the phrase **here comes dots.** When determining if a word or phrase is an anagram of a second word or phrase spaces, upper/lower case differences, and punctuation are not considered.\n",
        "\n",
        "**Input:** Two lines of text, each between 1 and 50 characters in length. The characters will consist of letters, spaces, and punctuation marks.\n",
        "\n",
        "**Output:** YES if the two lines are anagrams of each other and NO if there are not."
      ],
      "metadata": {
        "id": "tZthtdwsLID9"
      }
    },
    {
      "cell_type": "code",
      "source": [
        "x = input(\"\")\n",
        "y = input(\"\")\n",
        "x1=\"\".join(c for c in x if c.isalpha())\n",
        "y1=\"\".join(c for c in y if c.isalpha())\n",
        "x = x1.lower()\n",
        "y = y1.lower()\n",
        "if len(x) != len(y):\n",
        "    print(\"NO\")\n",
        "else:\n",
        "    for i in x:\n",
        "        for r in y:\n",
        "            if i == r:\n",
        "                y = y.replace(i,\"\")\n",
        "                break\n",
        "    if y == \"\":\n",
        "        print(\"YES\")\n",
        "    else:\n",
        "        print(\"NO\")\n"
      ],
      "metadata": {
        "id": "vg4Tj4LrMOB8"
      },
      "execution_count": null,
      "outputs": []
    },
    {
      "cell_type": "markdown",
      "source": [
        "---"
      ],
      "metadata": {
        "id": "xJC7T16YMO6t"
      }
    },
    {
      "cell_type": "markdown",
      "source": [
        "###**Problem 6: MonoDigit Numbers**"
      ],
      "metadata": {
        "id": "4zE1YFrQMPon"
      }
    },
    {
      "cell_type": "markdown",
      "source": [
        "A positive integer is a **monodigit number** if all of its digits are the same. Examples of base ten monodigit numbers are 8, 22, 66666, and 444444444. Monodigit numbers exist in all number bases. For example, 1111 is a monodigit number in binary or base two.\n",
        "\n",
        "\n",
        "Number theorists want to determine if there is a pattern for monodigit numbers. A program that will help them find patterns will take any positive integer in base ten as input and then output the integer in number bases where it is a monodigit number. For example, 6 in base five is 11 and it is the single monodigit 6 in bases seven, eight, nine, and ten.\n",
        "\n",
        "\n",
        "**Input:** A positive integer N less than 1,000,000\n",
        "\n",
        "**Output:** NO if N is not a monodigit number in any base from base 2 to base 10. If N is a monodigit number in any base B (where B can represent bases from two to ten) then there must be a line of output for each. The line will consist of N followed by the word \"Base\" followed by the value of the base B, followed by a colon, followed by the base B equivalent of N."
      ],
      "metadata": {
        "id": "AyW-D1aWMY6Y"
      }
    },
    {
      "cell_type": "markdown",
      "source": [
        "---"
      ],
      "metadata": {
        "id": "exSDIbXcNSD_"
      }
    },
    {
      "cell_type": "markdown",
      "source": [
        "###**Problem 7: game, SET, and match**"
      ],
      "metadata": {
        "id": "YLHdf_VmNTNS"
      }
    },
    {
      "cell_type": "markdown",
      "source": [
        "The game of Set consists of 81 unique cards. Each card has four characteristics: count, shape, texture, and color. Each characteristic has three different values: count (1, 2, or 3), shape (Diamond, Peanut, Oval), texture (Hollow, Lines, Solid), and color (Green, Violet, and Red).\n",
        "\n",
        "Each card has a textural representation based upon the values of the characteristics in the order: count, shape, texture, and color. <br></br>\n",
        "\n",
        "Count: `1, 2, 3` <br></br>\n",
        "Shape: `D, P, O`<br></br>\n",
        "Texture: `H, L, S`<br></br>\n",
        "Color: `G, V, R`<br></br>\n",
        "A set is formed by three cards when each of the card's characteristics, looking at one-by-one, are the same on each card, or are different on each card. All of the characteristics must separately satisfy this rule. In other words: shape must be either the same on all the three cards, or different on each of the three cards. The same for count, texture, and color\n",
        "\n",
        "See actual document for additional detail.\n",
        "\n",
        "**Input:** An integer N, with 3 =< N =< 12, followed by the textual representation of N set cards, one card per input line.\n",
        "\n",
        "**Output:** The textual representation of all sets of three cards found in the N cards. Each set of three cards is to be output on a separate line. The three cards on a line must be in lexicographic order and ht eoutput lines must also be in lexicographic order. If there are no sets a NO SETS message is alphabetically ordered based on their component characters."
      ],
      "metadata": {
        "id": "wybh0asBOb66"
      }
    },
    {
      "cell_type": "code",
      "source": [
        "#NOT DONE!\n",
        "\n",
        "n = int(input())\n",
        "\n",
        "import itertools\n",
        "\n",
        "i = 0\n",
        "inputs = []\n",
        "cac = 0\n",
        "toSetOrNotToSet = False\n",
        "\n",
        "for i in range(n):\n",
        "    i += 1\n",
        "    inputs.append(input())\n",
        "\n",
        "def is_set(card1, card2, card3):\n",
        "    for cac in range(4):\n",
        "        if card1[cac] == card2[cac] and card2[cac] == card3[cac]:\n",
        "            pass\n",
        "        elif card1[cac] != card2[cac] and card2[cac] != card3[cac] and card3[cac] != card1[cac]:\n",
        "            pass\n",
        "        else:\n",
        "            return False\n",
        "        cac += 1\n",
        "    return True\n",
        "\n",
        "\n",
        "\n",
        "def find_sets (cards):\n",
        "    for combinations in itertools.combinations(cards, 3):\n",
        "        if is_set(combinations[0], combinations[1], combinations[2]):\n",
        "            print(combinations[0] + \" \" + combinations[1] + \" \" + combinations[2])\n",
        "            toSetOrNotToSet = True\n",
        "\n",
        "\n",
        "\n",
        "\n",
        "\n",
        "\n",
        "find_sets (inputs)\n",
        "if toSetOrNotToSet == False:\n",
        "    print(\"No Sets\")\n"
      ],
      "metadata": {
        "id": "x5gf_ddLQQ1E"
      },
      "execution_count": null,
      "outputs": []
    },
    {
      "cell_type": "markdown",
      "source": [
        "#**Resources that I used (otherwise known as works cited):**\n",
        "\n",
        "1. [Solutions to Siena Google Doc by Team](https://docs.google.com/document/d/1APMbtrP5RYG4pUGafxEmLjv_9jPleQ-OClu_41U2ETg/edit)\n",
        "2. [Siena's Homepage for Past Problems](https://contest.sienacs.com/)\n",
        "3.\n"
      ],
      "metadata": {
        "id": "fMxU0vyIOZU8"
      }
    }
  ]
}